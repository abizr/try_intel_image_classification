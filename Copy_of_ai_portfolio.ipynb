{
  "cells": [
    {
      "cell_type": "markdown",
      "id": "be58b994-bc68-4166-91d5-282418b78864",
      "metadata": {
        "id": "be58b994-bc68-4166-91d5-282418b78864"
      },
      "source": [
        "# Project: Portfolio - Final Project"
      ]
    },
    {
      "cell_type": "markdown",
      "id": "c5120b06-0abf-49e3-b54d-db8afa9eda01",
      "metadata": {
        "id": "c5120b06-0abf-49e3-b54d-db8afa9eda01"
      },
      "source": [
        "**Instructions for Students:**\n",
        "\n",
        "Please carefully follow these steps to complete and submit your assignment:\n",
        "\n",
        "1. **Completing the Assignment**: You are required to work on and complete all tasks in the provided assignment. Be disciplined and ensure that you thoroughly engage with each task.\n",
        "   \n",
        "2. **Creating a Google Drive Folder**: If you don't previously have a folder for collecting assignments, you must create a new folder in your Google Drive. This will be a repository for all your completed assignment files, helping you keep your work organized and easy to access.\n",
        "   \n",
        "3. **Uploading Completed Assignment**: Upon completion of your assignment, make sure to upload all necessary files, involving codes, reports, and related documents into the created Google Drive folder. Save this link in the 'Student Identity' section and also provide it as the last parameter in the `submit` function that has been provided.\n",
        "   \n",
        "4. **Sharing Folder Link**: You're required to share the link to your assignment Google Drive folder. This is crucial for the submission and evaluation of your assignment.\n",
        "   \n",
        "5. **Setting Permission toPublic**: Please make sure your **Google Drive folder is set to public**. This allows your instructor to access your solutions and assess your work correctly.\n",
        "\n",
        "Adhering to these procedures will facilitate a smooth assignment process for you and the reviewers."
      ]
    },
    {
      "cell_type": "markdown",
      "id": "eca56111-19cb-46c0-a77b-11bd18c55673",
      "metadata": {
        "id": "eca56111-19cb-46c0-a77b-11bd18c55673"
      },
      "source": [
        "**Description:**\n",
        "\n",
        "Welcome to your final portfolio project assignment for AI Bootcamp. This is your chance to put all the skills and knowledge you've learned throughout the bootcamp into action by creating real-world AI application.\n",
        "\n",
        "You have the freedom to create any application or model, be it text-based or image-based or even voice-based or multimodal.\n",
        "\n",
        "To get you started, here are some ideas:\n",
        "\n",
        "1. **Sentiment Analysis Application:** Develop an application that can determine sentiment (positive, negative, neutral) from text data like reviews or social media posts. You can use Natural Language Processing (NLP) libraries like NLTK or TextBlob, or more advanced pre-trained models from transformers library by Hugging Face, for your sentiment analysis model.\n",
        "\n",
        "2. **Chatbot:** Design a chatbot serving a specific purpose such as customer service for a certain industry, a personal fitness coach, or a study helper. Libraries like ChatterBot or Dialogflow can assist in designing conversational agents.\n",
        "\n",
        "3. **Predictive Text Application:** Develop a model that suggests the next word or sentence similar to predictive text on smartphone keyboards. You could use the transformers library by Hugging Face, which includes pre-trained models like GPT-2.\n",
        "\n",
        "4. **Image Classification Application:** Create a model to distinguish between different types of flowers or fruits. For this type of image classification task, pre-trained models like ResNet or VGG from PyTorch or TensorFlow can be utilized.\n",
        "\n",
        "5. **News Article Classifier:** Develop a text classification model that categorizes news articles into predefined categories. NLTK, SpaCy, and sklearn are valuable libraries for text pre-processing, feature extraction, and building classification models.\n",
        "\n",
        "6. **Recommendation System:** Create a simplified recommendation system. For instance, a book or movie recommender based on user preferences. Python's Surprise library can assist in building effective recommendation systems.\n",
        "\n",
        "7. **Plant Disease Detection:** Develop a model to identify diseases in plants using leaf images. This project requires a good understanding of convolutional neural networks (CNNs) and image processing. PyTorch, TensorFlow, and OpenCV are all great tools to use.\n",
        "\n",
        "8. **Facial Expression Recognition:** Develop a model to classify human facial expressions. This involves complex feature extraction and classification algorithms. You might want to leverage deep learning libraries like TensorFlow or PyTorch, along with OpenCV for processing facial images.\n",
        "\n",
        "9. **Chest X-Ray Interpretation:** Develop a model to detect abnormalities in chest X-ray images. This task may require understanding of specific features in such images. Again, TensorFlow and PyTorch for deep learning, and libraries like SciKit-Image or PIL for image processing, could be of use.\n",
        "\n",
        "10. **Food Classification:** Develop a model to classify a variety of foods such as local Indonesian food. Pre-trained models like ResNet or VGG from PyTorch or TensorFlow can be a good starting point.\n",
        "\n",
        "11. **Traffic Sign Recognition:** Design a model to recognize different traffic signs. This project has real-world applicability in self-driving car technology. Once more, you might utilize PyTorch or TensorFlow for the deep learning aspect, and OpenCV for image processing tasks.\n",
        "\n",
        "**Submission:**\n",
        "\n",
        "Please upload both your model and application to Huggingface or your own Github account for submission.\n",
        "\n",
        "**Presentation:**\n",
        "\n",
        "You are required to create a presentation to showcase your project, including the following details:\n",
        "\n",
        "- The objective of your model.\n",
        "- A comprehensive description of your model.\n",
        "- The specific metrics used to measure your model's effectiveness.\n",
        "- A brief overview of the dataset used, including its source, pre-processing steps, and any insights.\n",
        "- An explanation of the methodology used in developing the model.\n",
        "- A discussion on challenges faced, how they were handled, and your learnings from those.\n",
        "- Suggestions for potential future improvements to the model.\n",
        "- A functioning link to a demo of your model in action.\n",
        "\n",
        "**Grading:**\n",
        "\n",
        "Submissions will be manually graded, with a select few given the opportunity to present their projects in front of a panel of judges. This will provide valuable feedback, further enhancing your project and expanding your knowledge base.\n",
        "\n",
        "Remember, consistent practice is the key to mastering these concepts. Apply your knowledge, ask questions when in doubt, and above all, enjoy the process. Best of luck to you all!\n"
      ]
    },
    {
      "cell_type": "code",
      "execution_count": null,
      "id": "213a611a-c434-4894-ba35-689963ee5274",
      "metadata": {
        "id": "213a611a-c434-4894-ba35-689963ee5274"
      },
      "outputs": [],
      "source": [
        "# @title #### Student Identity\n",
        "student_id = \"REA3QYR1\" # @param {type:\"string\"}\n",
        "name = \"abizar al gifari\" # @param {type:\"string\"}\n",
        "drive_link = \"https://drive.google.com/drive/folders/1erSA0lek3NFjOEr9_3ejpaH9TZCSWym2?usp=sharing\"  # @param {type:\"string\"}\n",
        "assignment_id = \"00_portfolio_project\""
      ]
    },
    {
      "cell_type": "markdown",
      "id": "2c97aef3-b747-49f7-99e0-4086c03e4200",
      "metadata": {
        "id": "2c97aef3-b747-49f7-99e0-4086c03e4200"
      },
      "source": [
        "## Installation and Import `rggrader` Package"
      ]
    },
    {
      "cell_type": "code",
      "execution_count": null,
      "id": "36c07e23-0280-467f-b0d2-44d966253bb4",
      "metadata": {
        "id": "36c07e23-0280-467f-b0d2-44d966253bb4",
        "colab": {
          "base_uri": "https://localhost:8080/"
        },
        "outputId": "1858935a-1373-463a-fa5a-77fd0812acba"
      },
      "outputs": [
        {
          "output_type": "stream",
          "name": "stdout",
          "text": [
            "Collecting rggrader\n",
            "  Downloading rggrader-0.1.6-py3-none-any.whl (2.5 kB)\n",
            "Requirement already satisfied: requests in /usr/local/lib/python3.10/dist-packages (from rggrader) (2.31.0)\n",
            "Requirement already satisfied: pandas in /usr/local/lib/python3.10/dist-packages (from rggrader) (1.5.3)\n",
            "Requirement already satisfied: Pillow in /usr/local/lib/python3.10/dist-packages (from rggrader) (9.4.0)\n",
            "Requirement already satisfied: python-dateutil>=2.8.1 in /usr/local/lib/python3.10/dist-packages (from pandas->rggrader) (2.8.2)\n",
            "Requirement already satisfied: pytz>=2020.1 in /usr/local/lib/python3.10/dist-packages (from pandas->rggrader) (2023.4)\n",
            "Requirement already satisfied: numpy>=1.21.0 in /usr/local/lib/python3.10/dist-packages (from pandas->rggrader) (1.25.2)\n",
            "Requirement already satisfied: charset-normalizer<4,>=2 in /usr/local/lib/python3.10/dist-packages (from requests->rggrader) (3.3.2)\n",
            "Requirement already satisfied: idna<4,>=2.5 in /usr/local/lib/python3.10/dist-packages (from requests->rggrader) (3.6)\n",
            "Requirement already satisfied: urllib3<3,>=1.21.1 in /usr/local/lib/python3.10/dist-packages (from requests->rggrader) (2.0.7)\n",
            "Requirement already satisfied: certifi>=2017.4.17 in /usr/local/lib/python3.10/dist-packages (from requests->rggrader) (2024.2.2)\n",
            "Requirement already satisfied: six>=1.5 in /usr/local/lib/python3.10/dist-packages (from python-dateutil>=2.8.1->pandas->rggrader) (1.16.0)\n",
            "Installing collected packages: rggrader\n",
            "Successfully installed rggrader-0.1.6\n"
          ]
        }
      ],
      "source": [
        "%pip install rggrader\n",
        "from rggrader import submit_image\n",
        "from rggrader import submit"
      ]
    },
    {
      "cell_type": "markdown",
      "id": "a4af3420-ff0e-472b-8b44-7a495ddf76c3",
      "metadata": {
        "id": "a4af3420-ff0e-472b-8b44-7a495ddf76c3"
      },
      "source": [
        "## Working Space"
      ]
    },
    {
      "cell_type": "code",
      "source": [
        "# Load the Drive helper and mount\n",
        "from google.colab import drive\n",
        "\n",
        "# This will prompt for authorization.\n",
        "drive.mount('/content/drive')"
      ],
      "metadata": {
        "id": "4JQ0Z4TyPWQL"
      },
      "id": "4JQ0Z4TyPWQL",
      "execution_count": null,
      "outputs": []
    },
    {
      "cell_type": "code",
      "source": [
        "# After executing the cell above, Drive files will be present in \"/content/drive/My Drive\".\n",
        "!ls \"/content/drive/My Drive\""
      ],
      "metadata": {
        "id": "ZkTfwEE0QJ-e"
      },
      "id": "ZkTfwEE0QJ-e",
      "execution_count": null,
      "outputs": []
    },
    {
      "cell_type": "code",
      "source": [
        "# Important imports\n",
        "import numpy as np\n",
        "import pandas as pd\n",
        "import matplotlib.pyplot as plt\n",
        "from matplotlib.image import imread\n",
        "import cv2\n",
        "import random\n",
        "from os import listdir\n",
        "from sklearn.preprocessing import  LabelBinarizer\n",
        "from keras.preprocessing import image\n",
        "from keras.preprocessing.image import img_to_array, array_to_img\n",
        "from keras.optimizers import Adam\n",
        "from PIL import Image\n",
        "from keras.models import Sequential\n",
        "from keras.layers.normalization import BatchNormalization\n",
        "from keras.layers import Conv2D, MaxPooling2D, Activation, Flatten, Dropout, Dense, LeakyReLU\n",
        "from sklearn.model_selection import train_test_split"
      ],
      "metadata": {
        "id": "7i48ibloQaFv"
      },
      "id": "7i48ibloQaFv",
      "execution_count": null,
      "outputs": []
    },
    {
      "cell_type": "code",
      "source": [
        "# Listing directory\n",
        "!ls \"/content/drive/My Drive/Data/Intel Image Dataset\""
      ],
      "metadata": {
        "id": "DmgeEEbiQbr1"
      },
      "id": "DmgeEEbiQbr1",
      "execution_count": null,
      "outputs": []
    },
    {
      "cell_type": "code",
      "source": [
        "# Plotting 25 images to check dataset\n",
        "plt.figure(figsize=(11,11))\n",
        "path = \"/content/drive/My Drive/Data/Intel Image Dataset/mountain\"\n",
        "for i in range(1,26):\n",
        "    plt.subplot(5,5,i)\n",
        "    plt.tight_layout()\n",
        "    rand_img = imread(path +'/'+ random.choice(sorted(listdir(path))))\n",
        "    plt.imshow(rand_img)\n",
        "    plt.title('mountain')\n",
        "    plt.xlabel(rand_img.shape[1], fontsize = 10)\n",
        "    plt.ylabel(rand_img.shape[0], fontsize = 10)"
      ],
      "metadata": {
        "id": "8q-HBsrFQtJN"
      },
      "id": "8q-HBsrFQtJN",
      "execution_count": null,
      "outputs": []
    },
    {
      "cell_type": "code",
      "source": [
        "# Setting root directory path and creating empty list\n",
        "dir = \"/content/drive/My Drive/Data/Intel Image Dataset\"\n",
        "root_dir = listdir(dir)\n",
        "image_list, label_list = [], []"
      ],
      "metadata": {
        "id": "b_CBxpLxQ86S"
      },
      "id": "b_CBxpLxQ86S",
      "execution_count": null,
      "outputs": []
    },
    {
      "cell_type": "code",
      "source": [
        "# Reading and converting image to numpy array\n",
        "for directory in root_dir:\n",
        "  for files in listdir(f\"{dir}/{directory}\"):\n",
        "    image_path = f\"{dir}/{directory}/{files}\"\n",
        "    image = Image.open(image_path)\n",
        "    image = image.resize((150,150)) # All images does not have same dimension\n",
        "    image = img_to_array(image)\n",
        "    image_list.append(image)\n",
        "    label_list.append(directory)"
      ],
      "metadata": {
        "id": "RZ__dkyDRCtS"
      },
      "id": "RZ__dkyDRCtS",
      "execution_count": null,
      "outputs": []
    },
    {
      "cell_type": "code",
      "source": [
        "# Visualize the number of classes count\n",
        "label_counts = pd.DataFrame(label_list).value_counts()\n",
        "label_counts"
      ],
      "metadata": {
        "id": "quHOZ6pjRHW0"
      },
      "id": "quHOZ6pjRHW0",
      "execution_count": null,
      "outputs": []
    },
    {
      "cell_type": "code",
      "source": [
        "# Text Watermark\n",
        "image_text = np.array(image_textw.convert('RGB'))\n",
        "cv2.putText(image_text, text='Pianalytix', org=(w_image - 95, h_image - 10), fontFace=cv2.FONT_HERSHEY_COMPLEX, fontScale=0.5,\n",
        "            color=(0,0,255), thickness=2, lineType=cv2.LINE_4);"
      ],
      "metadata": {
        "id": "pjqeonWkRW--"
      },
      "id": "pjqeonWkRW--",
      "execution_count": null,
      "outputs": []
    },
    {
      "cell_type": "code",
      "source": [
        "# Checking count of classes\n",
        "num_classes = len(label_counts)\n",
        "num_classes"
      ],
      "metadata": {
        "id": "MNbYNBGmRqdE"
      },
      "id": "MNbYNBGmRqdE",
      "execution_count": null,
      "outputs": []
    },
    {
      "cell_type": "code",
      "source": [
        "# Checking x data shape\n",
        "np.array(image_list).shape"
      ],
      "metadata": {
        "id": "_nA0uIibRsJB"
      },
      "id": "_nA0uIibRsJB",
      "execution_count": null,
      "outputs": []
    },
    {
      "cell_type": "code",
      "source": [
        "# Checking y data shape\n",
        "label_list = np.array(label_list)\n",
        "label_list.shape"
      ],
      "metadata": {
        "id": "qpSOdP3WRvU0"
      },
      "id": "qpSOdP3WRvU0",
      "execution_count": null,
      "outputs": []
    },
    {
      "cell_type": "code",
      "source": [
        "# Splitting dataset into test and train\n",
        "x_train, x_test, y_train, y_test = train_test_split(image_list, label_list, test_size=0.2, random_state = 10)"
      ],
      "metadata": {
        "id": "s2K2YWXbRvg-"
      },
      "id": "s2K2YWXbRvg-",
      "execution_count": null,
      "outputs": []
    },
    {
      "cell_type": "code",
      "source": [
        "# Normalize and reshape data\n",
        "x_train = np.array(x_train, dtype=np.float16) / 225.0\n",
        "x_test = np.array(x_test, dtype=np.float16) / 225.0\n",
        "x_train = x_train.reshape( -1, 150,150,3)\n",
        "x_test = x_test.reshape( -1, 150,150,3)"
      ],
      "metadata": {
        "id": "fbPeDlQTRvpf"
      },
      "id": "fbPeDlQTRvpf",
      "execution_count": null,
      "outputs": []
    },
    {
      "cell_type": "code",
      "source": [
        "# Binarizing labels\n",
        "lb = LabelBinarizer()\n",
        "y_train = lb.fit_transform(y_train)\n",
        "y_test = lb.fit_transform(y_test)\n",
        "print(lb.classes_)"
      ],
      "metadata": {
        "id": "Upo19O-BR4Xs"
      },
      "id": "Upo19O-BR4Xs",
      "execution_count": null,
      "outputs": []
    },
    {
      "cell_type": "code",
      "source": [
        "# Splitting the training data set into training and validation data sets\n",
        "x_train, x_val, y_train, y_val = train_test_split(x_train, y_train, test_size = 0.2)"
      ],
      "metadata": {
        "id": "ho8wO7PpR_Z8"
      },
      "id": "ho8wO7PpR_Z8",
      "execution_count": null,
      "outputs": []
    },
    {
      "cell_type": "code",
      "source": [
        "# Creating model architecture\n",
        "model = Sequential([\n",
        "        Conv2D(16, kernel_size = (3,3), input_shape = (150,150,3)),\n",
        "        BatchNormalization(),\n",
        "        LeakyReLU(),\n",
        "\n",
        "        Conv2D(32, kernel_size = (3,3)),\n",
        "        BatchNormalization(),\n",
        "        LeakyReLU(),\n",
        "        MaxPooling2D(5,5),\n",
        "\n",
        "        Conv2D(64, kernel_size = (3,3)),\n",
        "        BatchNormalization(),\n",
        "        LeakyReLU(),\n",
        "\n",
        "        Conv2D(128, kernel_size = (3,3)),\n",
        "        BatchNormalization(),\n",
        "        LeakyReLU(),\n",
        "        MaxPooling2D(5,5),\n",
        "\n",
        "        Flatten(),\n",
        "\n",
        "        Dense(64),\n",
        "        Dropout(rate = 0.2),\n",
        "        BatchNormalization(),\n",
        "        LeakyReLU(),\n",
        "\n",
        "        Dense(32),\n",
        "        Dropout(rate = 0.2),\n",
        "        BatchNormalization(),\n",
        "        LeakyReLU(),\n",
        "\n",
        "        Dense(16),\n",
        "        Dropout(rate = 0.2),\n",
        "        BatchNormalization(),\n",
        "        LeakyReLU(1),\n",
        "\n",
        "        Dense(6, activation = 'softmax')\n",
        "        ])\n",
        "model.summary()"
      ],
      "metadata": {
        "id": "KIwNrlCiR_iU"
      },
      "id": "KIwNrlCiR_iU",
      "execution_count": null,
      "outputs": []
    },
    {
      "cell_type": "code",
      "source": [
        "# Compiling model\n",
        "model.compile(loss = 'categorical_crossentropy', optimizer = Adam(0.0005),metrics=['accuracy'])"
      ],
      "metadata": {
        "id": "Y38XmyhkR_l9"
      },
      "id": "Y38XmyhkR_l9",
      "execution_count": null,
      "outputs": []
    },
    {
      "cell_type": "code",
      "source": [
        "# Training the model\n",
        "epochs = 70\n",
        "batch_size = 128\n",
        "history = model.fit(x_train, y_train, batch_size = batch_size, epochs = epochs, validation_data = (x_val, y_val))"
      ],
      "metadata": {
        "id": "oi3JRIPtR_qp"
      },
      "id": "oi3JRIPtR_qp",
      "execution_count": null,
      "outputs": []
    },
    {
      "cell_type": "code",
      "source": [
        "# Saving model\n",
        "model.save(\"/content/drive/My Drive/intel_image.h5\")"
      ],
      "metadata": {
        "id": "8MkTLBe9R_wm"
      },
      "id": "8MkTLBe9R_wm",
      "execution_count": null,
      "outputs": []
    },
    {
      "cell_type": "code",
      "source": [
        "#Plot the training history\n",
        "plt.figure(figsize=(12, 5))\n",
        "plt.plot(history.history['accuracy'], color='r')\n",
        "plt.plot(history.history['val_accuracy'], color='b')\n",
        "plt.title('Model Accuracy')\n",
        "plt.ylabel('Accuracy')\n",
        "plt.xlabel('Epochs')\n",
        "plt.legend(['train', 'val'])\n",
        "plt.show()"
      ],
      "metadata": {
        "id": "6yF_3Ge9R_8E"
      },
      "id": "6yF_3Ge9R_8E",
      "execution_count": null,
      "outputs": []
    },
    {
      "cell_type": "code",
      "source": [
        "#Plot the loss history\n",
        "plt.figure(figsize=(12, 5))\n",
        "plt.plot(history.history['loss'], color='r')\n",
        "plt.plot(history.history['val_loss'], color='b')\n",
        "plt.title('Model Loss')\n",
        "plt.ylabel('Loss')\n",
        "plt.xlabel('Epochs')\n",
        "plt.legend(['train', 'val'])\n",
        "plt.show()"
      ],
      "metadata": {
        "id": "xeUFguPvSAEc"
      },
      "id": "xeUFguPvSAEc",
      "execution_count": null,
      "outputs": []
    },
    {
      "cell_type": "code",
      "source": [
        "# Calculating test accuracy\n",
        "scores = model.evaluate(x_test, y_test)\n",
        "print(f\"Test Accuracy: {scores[1]*100}\")"
      ],
      "metadata": {
        "id": "1uhzFo7ZSgp9"
      },
      "id": "1uhzFo7ZSgp9",
      "execution_count": null,
      "outputs": []
    },
    {
      "cell_type": "code",
      "source": [
        "# Storing model predictions\n",
        "y_pred = model.predict(x_test)"
      ],
      "metadata": {
        "id": "3hfRsXK3Sgvx"
      },
      "id": "3hfRsXK3Sgvx",
      "execution_count": null,
      "outputs": []
    },
    {
      "cell_type": "code",
      "source": [
        "# Plotting image to compare\n",
        "img = array_to_img(x_test[1])\n",
        "img"
      ],
      "metadata": {
        "id": "R0D9RHOiSg1C"
      },
      "id": "R0D9RHOiSg1C",
      "execution_count": null,
      "outputs": []
    },
    {
      "cell_type": "code",
      "source": [
        "# Finding max value from predition list and comaparing original value vs predicted\n",
        "labels = lb.classes_\n",
        "print(labels)\n",
        "print(\"Originally : \",labels[np.argmax(y_test[1])])\n",
        "print(\"Predicted : \",labels[np.argmax(y_pred[1])])"
      ],
      "metadata": {
        "id": "F1INWqyHSg5N"
      },
      "id": "F1INWqyHSg5N",
      "execution_count": null,
      "outputs": []
    },
    {
      "cell_type": "code",
      "source": [],
      "metadata": {
        "id": "KGHjnanmShE4"
      },
      "id": "KGHjnanmShE4",
      "execution_count": null,
      "outputs": []
    },
    {
      "cell_type": "markdown",
      "id": "2b151c52-20a3-432f-ab16-4721c16581c4",
      "metadata": {
        "id": "2b151c52-20a3-432f-ab16-4721c16581c4"
      },
      "source": [
        "## Submit Notebook"
      ]
    },
    {
      "cell_type": "code",
      "source": [],
      "metadata": {
        "id": "MUaRj6B_Qskj"
      },
      "id": "MUaRj6B_Qskj",
      "execution_count": null,
      "outputs": []
    },
    {
      "cell_type": "code",
      "execution_count": null,
      "id": "ced6b581-708f-4758-86ff-3cd51bf14f99",
      "metadata": {
        "id": "ced6b581-708f-4758-86ff-3cd51bf14f99",
        "colab": {
          "base_uri": "https://localhost:8080/",
          "height": 35
        },
        "outputId": "8511a5c5-9b43-485b-f622-002226ef830e"
      },
      "outputs": [
        {
          "output_type": "execute_result",
          "data": {
            "text/plain": [
              "'Assignment successfully submitted'"
            ],
            "application/vnd.google.colaboratory.intrinsic+json": {
              "type": "string"
            }
          },
          "metadata": {},
          "execution_count": 33
        }
      ],
      "source": [
        "portfolio_link = \"https://github.com/abizr/coba\"\n",
        "presentation_link = \"https://docs.google.com/presentation/d/1zU4ALo9H4ITeRsoZoNQ-up4CE27oF_t2yd47fluS-fM/edit#slide=id.gc6f80d1ff_0_0\"\n",
        "\n",
        "question_id = \"01_portfolio_link\"\n",
        "submit(student_id, name, assignment_id, str(portfolio_link), question_id, drive_link)\n",
        "\n",
        "question_id = \"02_presentation_link\"\n",
        "submit(student_id, name, assignment_id, str(presentation_link), question_id, drive_link)"
      ]
    },
    {
      "cell_type": "markdown",
      "id": "792aa177-c74e-42e5-9881-40376cd746a8",
      "metadata": {
        "id": "792aa177-c74e-42e5-9881-40376cd746a8"
      },
      "source": [
        "# FIN"
      ]
    }
  ],
  "metadata": {
    "kernelspec": {
      "display_name": "Python 3",
      "name": "python3"
    },
    "language_info": {
      "codemirror_mode": {
        "name": "ipython",
        "version": 3
      },
      "file_extension": ".py",
      "mimetype": "text/x-python",
      "name": "python",
      "nbconvert_exporter": "python",
      "pygments_lexer": "ipython3",
      "version": "3.11.3"
    },
    "colab": {
      "provenance": [],
      "gpuType": "T4"
    },
    "accelerator": "GPU"
  },
  "nbformat": 4,
  "nbformat_minor": 5
}